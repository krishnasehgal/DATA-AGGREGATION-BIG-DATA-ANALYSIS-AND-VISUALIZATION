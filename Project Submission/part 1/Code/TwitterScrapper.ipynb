{
 "cells": [
  {
   "cell_type": "code",
   "execution_count": 1,
   "metadata": {},
   "outputs": [
    {
     "name": "stderr",
     "output_type": "stream",
     "text": [
      "Updating HTML index of packages in '.Library'\n",
      "Making 'packages.html' ... done\n",
      "Updating HTML index of packages in '.Library'\n",
      "Making 'packages.html' ... done\n"
     ]
    }
   ],
   "source": [
    "install.packages(\"twitteR\", repos='http://cran.us.r-project.org')\n",
    "install.packages(\"rtweet\", repos='http://cran.us.r-project.org')"
   ]
  },
  {
   "cell_type": "code",
   "execution_count": 2,
   "metadata": {},
   "outputs": [
    {
     "name": "stderr",
     "output_type": "stream",
     "text": [
      "\n",
      "Attaching package: ‘rtweet’\n",
      "\n",
      "The following object is masked from ‘package:twitteR’:\n",
      "\n",
      "    lookup_statuses\n",
      "\n"
     ]
    }
   ],
   "source": [
    "library(twitteR)\n",
    "library(rtweet)"
   ]
  },
  {
   "cell_type": "markdown",
   "metadata": {},
   "source": [
    "### Border Wall"
   ]
  },
  {
   "cell_type": "code",
   "execution_count": 3,
   "metadata": {},
   "outputs": [
    {
     "data": {
      "text/plain": [
       "<Token>\n",
       "<oauth_endpoint>\n",
       " request:   https://api.twitter.com/oauth/request_token\n",
       " authorize: https://api.twitter.com/oauth/authenticate\n",
       " access:    https://api.twitter.com/oauth/access_token\n",
       "<oauth_app> Krishna_app\n",
       "  key:    V7jrUK0vhRLYlY027enfOemJi\n",
       "  secret: <hidden>\n",
       "<credentials> oauth_token, oauth_token_secret\n",
       "---"
      ]
     },
     "metadata": {},
     "output_type": "display_data"
    },
    {
     "name": "stderr",
     "output_type": "stream",
     "text": [
      "Searching for tweets...\n",
      "This may take a few seconds...\n",
      "Warning message:\n",
      "“Rate limit exceeded - 88”Warning message:\n",
      "“Rate limit exceeded”Finished collecting tweets!\n"
     ]
    }
   ],
   "source": [
    "create_token(app = \"Krishna_app\", \"V7jrUK0vhRLYlY027enfOemJi\", \"o7HKCEH2fqjY3DlfPdfA2UTxcylqoZ4upGvBqUGDV8FdyluHPB\", \n",
    "\"843151334-8PRgwWEs9iBHOy2lXSqKnIjTYIXzmPBTRJBSKqmm\", \"7VR6ymJvFd9aPHvRd4L802kENq25ktoFUpO79wc9TsFOo\")\n",
    "borderWallTweets <- search_tweets(\"border wall OR borderWall\", n=25000, lang='en', geocode = lookup_coords(\"usa\"))"
   ]
  },
  {
   "cell_type": "code",
   "execution_count": 4,
   "metadata": {},
   "outputs": [
    {
     "data": {
      "text/html": [
       "13570"
      ],
      "text/latex": [
       "13570"
      ],
      "text/markdown": [
       "13570"
      ],
      "text/plain": [
       "[1] 13570"
      ]
     },
     "metadata": {},
     "output_type": "display_data"
    }
   ],
   "source": [
    "nrow(borderWallTweets)"
   ]
  },
  {
   "cell_type": "code",
   "execution_count": 5,
   "metadata": {},
   "outputs": [],
   "source": [
    "write_as_csv(borderWallTweets, file = \"borderWallTweets2.csv\", prepend_ids = TRUE, na = \"\",fileEncoding = \"UTF-8\")"
   ]
  },
  {
   "cell_type": "markdown",
   "metadata": {},
   "source": [
    "### Immigrants"
   ]
  },
  {
   "cell_type": "code",
   "execution_count": 6,
   "metadata": {},
   "outputs": [
    {
     "data": {
      "text/plain": [
       "<Token>\n",
       "<oauth_endpoint>\n",
       " request:   https://api.twitter.com/oauth/request_token\n",
       " authorize: https://api.twitter.com/oauth/authenticate\n",
       " access:    https://api.twitter.com/oauth/access_token\n",
       "<oauth_app> Krishna_app\n",
       "  key:    V7jrUK0vhRLYlY027enfOemJi\n",
       "  secret: <hidden>\n",
       "<credentials> oauth_token, oauth_token_secret\n",
       "---"
      ]
     },
     "metadata": {},
     "output_type": "display_data"
    },
    {
     "name": "stderr",
     "output_type": "stream",
     "text": [
      "Searching for tweets...\n",
      "This may take a few seconds...\n",
      "Warning message:\n",
      "“Rate limit exceeded - 88”Warning message:\n",
      "“Rate limit exceeded”Finished collecting tweets!\n"
     ]
    }
   ],
   "source": [
    "create_token(app = \"Krishna_app\", \"V7jrUK0vhRLYlY027enfOemJi\", \"o7HKCEH2fqjY3DlfPdfA2UTxcylqoZ4upGvBqUGDV8FdyluHPB\", \n",
    "\"843151334-8PRgwWEs9iBHOy2lXSqKnIjTYIXzmPBTRJBSKqmm\", \"7VR6ymJvFd9aPHvRd4L802kENq25ktoFUpO79wc9TsFOo\")\n",
    "immigrantsTweets <- search_tweets(\"immigrants\", n=25000, lang='en', geocode = lookup_coords(\"usa\"))"
   ]
  },
  {
   "cell_type": "code",
   "execution_count": 7,
   "metadata": {},
   "outputs": [
    {
     "data": {
      "text/html": [
       "16769"
      ],
      "text/latex": [
       "16769"
      ],
      "text/markdown": [
       "16769"
      ],
      "text/plain": [
       "[1] 16769"
      ]
     },
     "metadata": {},
     "output_type": "display_data"
    }
   ],
   "source": [
    "nrow(immigrantsTweets)"
   ]
  },
  {
   "cell_type": "code",
   "execution_count": 8,
   "metadata": {},
   "outputs": [],
   "source": [
    "write_as_csv(immigrantsTweets , file = \"immigrantsTweets2.csv\", prepend_ids = TRUE, na = \"\",fileEncoding = \"UTF-8\")"
   ]
  },
  {
   "cell_type": "markdown",
   "metadata": {},
   "source": [
    "### Build that wall"
   ]
  },
  {
   "cell_type": "code",
   "execution_count": 15,
   "metadata": {},
   "outputs": [
    {
     "data": {
      "text/plain": [
       "<Token>\n",
       "<oauth_endpoint>\n",
       " request:   https://api.twitter.com/oauth/request_token\n",
       " authorize: https://api.twitter.com/oauth/authenticate\n",
       " access:    https://api.twitter.com/oauth/access_token\n",
       "<oauth_app> Influenza_Abhav\n",
       "  key:    V7jrUK0vhRLYlY027enfOemJi\n",
       "  secret: <hidden>\n",
       "<credentials> oauth_token, oauth_token_secret\n",
       "---"
      ]
     },
     "metadata": {},
     "output_type": "display_data"
    },
    {
     "name": "stderr",
     "output_type": "stream",
     "text": [
      "Searching for tweets...\n",
      "This may take a few seconds...\n",
      "Warning message:\n",
      "“Rate limit exceeded - 88”Warning message:\n",
      "“Rate limit exceeded”Finished collecting tweets!\n"
     ]
    }
   ],
   "source": [
    "create_token(app = \"krishna_app\", \"V7jrUK0vhRLYlY027enfOemJi\", \"o7HKCEH2fqjY3DlfPdfA2UTxcylqoZ4upGvBqUGDV8FdyluHPB\", \n",
    "\"843151334-8PRgwWEs9iBHOy2lXSqKnIjTYIXzmPBTRJBSKqmm\", \"7VR6ymJvFd9aPHvRd4L802kENq25ktoFUpO79wc9TsFOo\")\n",
    "buildthatwallTweets <- search_tweets(\"build that wall OR buildthatwall\", n=25000, lang='en', geocode = lookup_coords(\"usa\"))"
   ]
  },
  {
   "cell_type": "code",
   "execution_count": 16,
   "metadata": {},
   "outputs": [
    {
     "data": {
      "text/html": [
       "16316"
      ],
      "text/latex": [
       "16316"
      ],
      "text/markdown": [
       "16316"
      ],
      "text/plain": [
       "[1] 16316"
      ]
     },
     "metadata": {},
     "output_type": "display_data"
    }
   ],
   "source": [
    "nrow(buildthatwallTweets)"
   ]
  },
  {
   "cell_type": "code",
   "execution_count": 17,
   "metadata": {},
   "outputs": [],
   "source": [
    "write_as_csv(buildthatwallTweets , file = \"buildthatwallTweets2.csv\", prepend_ids = TRUE, na = \"\",fileEncoding = \"UTF-8\")"
   ]
  },
  {
   "cell_type": "markdown",
   "metadata": {},
   "source": [
    "### Build the wall"
   ]
  },
  {
   "cell_type": "code",
   "execution_count": 20,
   "metadata": {},
   "outputs": [
    {
     "data": {
      "text/plain": [
       "<Token>\n",
       "<oauth_endpoint>\n",
       " request:   https://api.twitter.com/oauth/request_token\n",
       " authorize: https://api.twitter.com/oauth/authenticate\n",
       " access:    https://api.twitter.com/oauth/access_token\n",
       "<oauth_app> Influenza_Abhav\n",
       "  key:    V7jrUK0vhRLYlY027enfOemJi\n",
       "  secret: <hidden>\n",
       "<credentials> oauth_token, oauth_token_secret\n",
       "---"
      ]
     },
     "metadata": {},
     "output_type": "display_data"
    },
    {
     "name": "stderr",
     "output_type": "stream",
     "text": [
      "Searching for tweets...\n",
      "This may take a few seconds...\n",
      "Warning message:\n",
      "“Rate limit exceeded - 88”Warning message:\n",
      "“Rate limit exceeded”Finished collecting tweets!\n"
     ]
    }
   ],
   "source": [
    "create_token(app = \"Influenza_Abhav\", \"V7jrUK0vhRLYlY027enfOemJi\", \"o7HKCEH2fqjY3DlfPdfA2UTxcylqoZ4upGvBqUGDV8FdyluHPB\", \n",
    "\"843151334-8PRgwWEs9iBHOy2lXSqKnIjTYIXzmPBTRJBSKqmm\", \"7VR6ymJvFd9aPHvRd4L802kENq25ktoFUpO79wc9TsFOo\")\n",
    "buildthewallTweets <- search_tweets(\"build the wall OR buildthewall\", n=25000, lang='en', geocode = lookup_coords(\"usa\"))"
   ]
  },
  {
   "cell_type": "code",
   "execution_count": 21,
   "metadata": {},
   "outputs": [
    {
     "data": {
      "text/html": [
       "15358"
      ],
      "text/latex": [
       "15358"
      ],
      "text/markdown": [
       "15358"
      ],
      "text/plain": [
       "[1] 15358"
      ]
     },
     "metadata": {},
     "output_type": "display_data"
    }
   ],
   "source": [
    "nrow(buildthewallTweets)"
   ]
  },
  {
   "cell_type": "code",
   "execution_count": 22,
   "metadata": {},
   "outputs": [],
   "source": [
    "write_as_csv(buildthewallTweets , file = \"buildthewallTweets2.csv\", prepend_ids = TRUE, na = \"\",fileEncoding = \"UTF-8\")"
   ]
  },
  {
   "cell_type": "markdown",
   "metadata": {},
   "source": [
    "### Finish that wall"
   ]
  },
  {
   "cell_type": "code",
   "execution_count": 25,
   "metadata": {},
   "outputs": [
    {
     "data": {
      "text/plain": [
       "<Token>\n",
       "<oauth_endpoint>\n",
       " request:   https://api.twitter.com/oauth/request_token\n",
       " authorize: https://api.twitter.com/oauth/authenticate\n",
       " access:    https://api.twitter.com/oauth/access_token\n",
       "<oauth_app> Influenza_Abhav\n",
       "  key:    V7jrUK0vhRLYlY027enfOemJi\n",
       "  secret: <hidden>\n",
       "<credentials> oauth_token, oauth_token_secret\n",
       "---"
      ]
     },
     "metadata": {},
     "output_type": "display_data"
    },
    {
     "name": "stderr",
     "output_type": "stream",
     "text": [
      "Searching for tweets...\n",
      "This may take a few seconds...\n",
      "Finished collecting tweets!\n"
     ]
    }
   ],
   "source": [
    "create_token(app = \"krishna\", \"V7jrUK0vhRLYlY027enfOemJi\", \"o7HKCEH2fqjY3DlfPdfA2UTxcylqoZ4upGvBqUGDV8FdyluHPB\", \n",
    "\"843151334-8PRgwWEs9iBHOy2lXSqKnIjTYIXzmPBTRJBSKqmm\", \"7VR6ymJvFd9aPHvRd4L802kENq25ktoFUpO79wc9TsFOo\")\n",
    "finishthatwallTweets <- search_tweets(\"finish that wall OR finishthatwall\", n=25000, lang='en', geocode = lookup_coords(\"usa\"))"
   ]
  },
  {
   "cell_type": "code",
   "execution_count": 26,
   "metadata": {},
   "outputs": [
    {
     "data": {
      "text/html": [
       "236"
      ],
      "text/latex": [
       "236"
      ],
      "text/markdown": [
       "236"
      ],
      "text/plain": [
       "[1] 236"
      ]
     },
     "metadata": {},
     "output_type": "display_data"
    }
   ],
   "source": [
    "nrow(finishthatwallTweets)"
   ]
  },
  {
   "cell_type": "code",
   "execution_count": 27,
   "metadata": {},
   "outputs": [],
   "source": [
    "write_as_csv(finishthatwallTweets , file = \"finishthatwallTweets2.csv\", prepend_ids = TRUE, na = \"\",fileEncoding = \"UTF-8\")"
   ]
  },
  {
   "cell_type": "markdown",
   "metadata": {},
   "source": [
    "### Finish the wall"
   ]
  },
  {
   "cell_type": "code",
   "execution_count": 28,
   "metadata": {},
   "outputs": [
    {
     "data": {
      "text/plain": [
       "<Token>\n",
       "<oauth_endpoint>\n",
       " request:   https://api.twitter.com/oauth/request_token\n",
       " authorize: https://api.twitter.com/oauth/authenticate\n",
       " access:    https://api.twitter.com/oauth/access_token\n",
       "<oauth_app> Influenza_Abhav\n",
       "  key:    V7jrUK0vhRLYlY027enfOemJi\n",
       "  secret: <hidden>\n",
       "<credentials> oauth_token, oauth_token_secret\n",
       "---"
      ]
     },
     "metadata": {},
     "output_type": "display_data"
    },
    {
     "name": "stderr",
     "output_type": "stream",
     "text": [
      "Searching for tweets...\n",
      "This may take a few seconds...\n",
      "Finished collecting tweets!\n"
     ]
    }
   ],
   "source": [
    "create_token(app = \"Influenza_Abhav\", \"V7jrUK0vhRLYlY027enfOemJi\", \"o7HKCEH2fqjY3DlfPdfA2UTxcylqoZ4upGvBqUGDV8FdyluHPB\", \n",
    "\"843151334-8PRgwWEs9iBHOy2lXSqKnIjTYIXzmPBTRJBSKqmm\", \"7VR6ymJvFd9aPHvRd4L802kENq25ktoFUpO79wc9TsFOo\")\n",
    "finishthewallTweets <- search_tweets(\"finish the wall OR finishthewall\", n=25000, lang='en', geocode = lookup_coords(\"usa\"))\n"
   ]
  },
  {
   "cell_type": "code",
   "execution_count": 29,
   "metadata": {},
   "outputs": [
    {
     "data": {
      "text/html": [
       "1787"
      ],
      "text/latex": [
       "1787"
      ],
      "text/markdown": [
       "1787"
      ],
      "text/plain": [
       "[1] 1787"
      ]
     },
     "metadata": {},
     "output_type": "display_data"
    }
   ],
   "source": [
    "nrow(finishthewallTweets)"
   ]
  },
  {
   "cell_type": "code",
   "execution_count": 30,
   "metadata": {},
   "outputs": [],
   "source": [
    "write_as_csv(finishthewallTweets , file = \"finishthewallTweets2.csv\", prepend_ids = TRUE, na = \"\",fileEncoding = \"UTF-8\")"
   ]
  },
  {
   "cell_type": "markdown",
   "metadata": {},
   "source": [
    "### Mexico Border"
   ]
  },
  {
   "cell_type": "code",
   "execution_count": 31,
   "metadata": {},
   "outputs": [
    {
     "data": {
      "text/plain": [
       "<Token>\n",
       "<oauth_endpoint>\n",
       " request:   https://api.twitter.com/oauth/request_token\n",
       " authorize: https://api.twitter.com/oauth/authenticate\n",
       " access:    https://api.twitter.com/oauth/access_token\n",
       "<oauth_app> Influenza_Abhav\n",
       "  key:    V7jrUK0vhRLYlY027enfOemJi\n",
       "  secret: <hidden>\n",
       "<credentials> oauth_token, oauth_token_secret\n",
       "---"
      ]
     },
     "metadata": {},
     "output_type": "display_data"
    },
    {
     "name": "stderr",
     "output_type": "stream",
     "text": [
      "Searching for tweets...\n",
      "This may take a few seconds...\n",
      "Warning message:\n",
      "“Rate limit exceeded - 88”Warning message:\n",
      "“Rate limit exceeded”Finished collecting tweets!\n"
     ]
    }
   ],
   "source": [
    "create_token(app = \"Influenza_Abhav\", \"V7jrUK0vhRLYlY027enfOemJi\", \"o7HKCEH2fqjY3DlfPdfA2UTxcylqoZ4upGvBqUGDV8FdyluHPB\", \n",
    "\"843151334-8PRgwWEs9iBHOy2lXSqKnIjTYIXzmPBTRJBSKqmm\", \"7VR6ymJvFd9aPHvRd4L802kENq25ktoFUpO79wc9TsFOo\")\n",
    "mexicoborderTweets <- search_tweets(\"mexico border OR mexicoborder\", n=25000, lang='en', geocode = lookup_coords(\"usa\"))"
   ]
  },
  {
   "cell_type": "code",
   "execution_count": 32,
   "metadata": {},
   "outputs": [
    {
     "data": {
      "text/html": [
       "12232"
      ],
      "text/latex": [
       "12232"
      ],
      "text/markdown": [
       "12232"
      ],
      "text/plain": [
       "[1] 12232"
      ]
     },
     "metadata": {},
     "output_type": "display_data"
    }
   ],
   "source": [
    "nrow(mexicoborderTweets)"
   ]
  },
  {
   "cell_type": "code",
   "execution_count": 33,
   "metadata": {},
   "outputs": [],
   "source": [
    "write_as_csv(mexicoborderTweets , file = \"mexicoborderTweets2.csv\", prepend_ids = TRUE, na = \"\",fileEncoding = \"UTF-8\")"
   ]
  },
  {
   "cell_type": "code",
   "execution_count": null,
   "metadata": {},
   "outputs": [],
   "source": []
  }
 ],
 "metadata": {
  "kernelspec": {
   "display_name": "R",
   "language": "R",
   "name": "ir"
  },
  "language_info": {
   "codemirror_mode": "r",
   "file_extension": ".r",
   "mimetype": "text/x-r-source",
   "name": "R",
   "pygments_lexer": "r",
   "version": "3.5.1"
  }
 },
 "nbformat": 4,
 "nbformat_minor": 2
}
